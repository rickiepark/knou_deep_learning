{
 "cells": [
  {
   "cell_type": "markdown",
   "metadata": {},
   "source": [
    "# 01 신경망의 개요"
   ]
  },
  {
   "cell_type": "markdown",
   "metadata": {},
   "source": [
    "코드 1-1 [1] 필요한 패키지 불러오기"
   ]
  },
  {
   "cell_type": "code",
   "execution_count": 1,
   "metadata": {},
   "outputs": [],
   "source": [
    "import matplotlib.pyplot as plt\n",
    "import numpy as np\n",
    "from sklearn.datasets import load_iris"
   ]
  },
  {
   "cell_type": "markdown",
   "metadata": {},
   "source": [
    "코드 1-1 [2] 데이터 준비 함수 정의하기"
   ]
  },
  {
   "cell_type": "code",
   "execution_count": 2,
   "metadata": {},
   "outputs": [],
   "source": [
    "def prepare_data(target):\n",
    "    iris = load_iris()          # iris data set 읽기\n",
    "    X_tr = iris.data[:, 2:]     # 4개의 특징 중 꽃잎의 길이와 폭 선택\n",
    "    labels = iris.target_names  # 'setosa', 'versicolor', 'vriginica'\n",
    "    y = iris.target\n",
    "    \n",
    "    # 학습표본의 레이블 지정 - target에 지정된 레이블이면 1, 그 외는 0\n",
    "    target_lable = np.where(labels == target)[0]\n",
    "    y_tr = (y == target_lable).astype(int)\n",
    "    return X_tr, y_tr, ['(1) '+target, '(0) the others']"
   ]
  },
  {
   "cell_type": "markdown",
   "metadata": {},
   "source": [
    "코드 1-1 [3] 활성화 함수 - 단위 계단 함수"
   ]
  },
  {
   "cell_type": "code",
   "execution_count": 3,
   "metadata": {},
   "outputs": [],
   "source": [
    "def step(x):\n",
    "    return np.heaviside(x, 1)"
   ]
  },
  {
   "cell_type": "markdown",
   "metadata": {},
   "source": [
    "코드 1-1 [4] 퍼셉트론 클래스 선언"
   ]
  },
  {
   "cell_type": "code",
   "execution_count": 4,
   "metadata": {},
   "outputs": [],
   "source": [
    "class Perceptron:\n",
    "    def __init__(self, dim, activation):\n",
    "        rnd = np.random.default_rng()\n",
    "        self.dim = dim\n",
    "        self.activation = activation\n",
    "        # 가중치(w)와 바이어스(b)를 He normal 방식으로 초기화\n",
    "        self.w = rnd.normal(scale=np.sqrt(2.0 / dim), size=dim)\n",
    "        self.b = rnd.normal(scale=np.sqrt(2.0 / dim))\n",
    "\n",
    "    def print_w(self):\n",
    "        for i in range(self.dim):\n",
    "            print('  w{} = {:6.3f}'.format(i+1, self.w[i]), end='')\n",
    "        print('  b = {:6.3f}'.format(self.b))\n",
    "\n",
    "    def predict(self, x) : # numpy 배열 x에 저장된 표본의 출력 계산\n",
    "        return self.activation(np.dot(x, self.w) + self.b)\n",
    "\n",
    "    def fit(self, X, y, N, epochs, eta=0.01):\n",
    "        # 학습표본의 인덱스를 무작위 순서로 섞음\n",
    "        random_idx = np.random.permutation(N)\n",
    "        X = X[random_idx]\n",
    "        y = y[random_idx]\n",
    "        print('w의 초깃값 ', end='')\n",
    "        self.print_w()\n",
    "        for j in range(epochs):\n",
    "            for i in range(N):\n",
    "                # x[1]에 대한 출력 오차 계산\n",
    "                delta = self.predict(X[i]) - y[i]\n",
    "                self.w -= eta * delta * X[i]\n",
    "                self.b -= eta * delta\n",
    "            # 학습 과정 출력\n",
    "            if j < 10 or (j+1) % 100 == 0:\n",
    "                loss = self.predict(X) - y\n",
    "                loss = (loss * loss).sum() / N\n",
    "                print('에포크 = {:4d}    손실 = {:8.5f}'.format(j+1, loss), end='')\n",
    "                self.print_w()"
   ]
  },
  {
   "cell_type": "markdown",
   "metadata": {},
   "source": [
    "코드 1-1 [6] 훈련 데이터 준비하기"
   ]
  },
  {
   "cell_type": "code",
   "execution_count": 5,
   "metadata": {},
   "outputs": [],
   "source": [
    "samples = 60\n",
    "dim = 2\n",
    "target = 'setosa'\n",
    "X_tr, y_tr, labels = prepare_data(target)"
   ]
  },
  {
   "cell_type": "markdown",
   "metadata": {},
   "source": [
    "코드 1-1 [7] 페셉트론 객체 생성 및 학습"
   ]
  },
  {
   "cell_type": "code",
   "execution_count": 6,
   "metadata": {},
   "outputs": [
    {
     "name": "stdout",
     "output_type": "stream",
     "text": [
      "w의 초깃값   w1 =  1.624  w2 = -0.193  b =  0.552\n",
      "에포크 =    1    손실 =  0.16667  w1 =  1.187  w2 = -0.331  b =  0.452\n",
      "에포크 =    2    손실 =  0.16667  w1 =  0.750  w2 = -0.469  b =  0.352\n",
      "에포크 =    3    손실 =  0.16667  w1 =  0.313  w2 = -0.607  b =  0.252\n",
      "에포크 =    4    손실 =  0.00000  w1 =  0.124  w2 = -0.665  b =  0.212\n",
      "에포크 =    5    손실 =  0.00000  w1 =  0.124  w2 = -0.665  b =  0.212\n",
      "에포크 =    6    손실 =  0.00000  w1 =  0.124  w2 = -0.665  b =  0.212\n",
      "에포크 =    7    손실 =  0.00000  w1 =  0.124  w2 = -0.665  b =  0.212\n",
      "에포크 =    8    손실 =  0.00000  w1 =  0.124  w2 = -0.665  b =  0.212\n",
      "에포크 =    9    손실 =  0.00000  w1 =  0.124  w2 = -0.665  b =  0.212\n",
      "에포크 =   10    손실 =  0.00000  w1 =  0.124  w2 = -0.665  b =  0.212\n",
      "에포크 =  100    손실 =  0.00000  w1 =  0.124  w2 = -0.665  b =  0.212\n",
      "에포크 =  200    손실 =  0.00000  w1 =  0.124  w2 = -0.665  b =  0.212\n",
      "에포크 =  300    손실 =  0.00000  w1 =  0.124  w2 = -0.665  b =  0.212\n",
      "에포크 =  400    손실 =  0.00000  w1 =  0.124  w2 = -0.665  b =  0.212\n",
      "에포크 =  500    손실 =  0.00000  w1 =  0.124  w2 = -0.665  b =  0.212\n",
      "에포크 =  600    손실 =  0.00000  w1 =  0.124  w2 = -0.665  b =  0.212\n",
      "에포크 =  700    손실 =  0.00000  w1 =  0.124  w2 = -0.665  b =  0.212\n",
      "에포크 =  800    손실 =  0.00000  w1 =  0.124  w2 = -0.665  b =  0.212\n",
      "에포크 =  900    손실 =  0.00000  w1 =  0.124  w2 = -0.665  b =  0.212\n",
      "에포크 = 1000    손실 =  0.00000  w1 =  0.124  w2 = -0.665  b =  0.212\n"
     ]
    }
   ],
   "source": [
    "p = Perceptron(dim, activation=step)\n",
    "p.fit(X_tr, y_tr, samples, epochs=1000, eta=0.01)"
   ]
  },
  {
   "cell_type": "code",
   "execution_count": null,
   "metadata": {},
   "outputs": [],
   "source": []
  }
 ],
 "metadata": {
  "kernelspec": {
   "display_name": "Python 3",
   "language": "python",
   "name": "python3"
  },
  "language_info": {
   "codemirror_mode": {
    "name": "ipython",
    "version": 3
   },
   "file_extension": ".py",
   "mimetype": "text/x-python",
   "name": "python",
   "nbconvert_exporter": "python",
   "pygments_lexer": "ipython3",
   "version": "3.10.8"
  },
  "orig_nbformat": 4
 },
 "nbformat": 4,
 "nbformat_minor": 2
}
