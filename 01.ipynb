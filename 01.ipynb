{
 "cells": [
  {
   "cell_type": "markdown",
   "metadata": {},
   "source": [
    "# 01 신경망의 개요"
   ]
  },
  {
   "cell_type": "markdown",
   "metadata": {},
   "source": [
    "코드 1-1 [1] 필요한 패키지 불러오기"
   ]
  },
  {
   "cell_type": "code",
   "execution_count": 2,
   "metadata": {},
   "outputs": [],
   "source": [
    "import matplotlib.pyplot as plt\n",
    "import numpy as np\n",
    "from sklearn.datasets import load_iris"
   ]
  },
  {
   "cell_type": "markdown",
   "metadata": {},
   "source": [
    "코드 1-1 [2] 데이터 준비 함수 정의하기"
   ]
  },
  {
   "cell_type": "code",
   "execution_count": 23,
   "metadata": {},
   "outputs": [],
   "source": [
    "def prepare_data(target):\n",
    "    iris = load_iris()          # iris data set 읽기\n",
    "    X_tr = iris.data[:, 2:]     # 4개의 특징 중 꽃잎의 길이와 폭 선택\n",
    "    labels = iris.target_names  # 'setosa', 'versicolor', 'vriginica'\n",
    "    y = iris.target\n",
    "    \n",
    "    # 학습표본의 레이블 지정 - target에 지정된 레이블이면 1, 그 외는 0\n",
    "    target_lable = np.argwhere(labels == target)\n",
    "    y_tr = (y == target_lable).astype(int)\n",
    "    return X_tr, y_tr, ['(1) '+target, '(0) the others']"
   ]
  },
  {
   "cell_type": "markdown",
   "metadata": {},
   "source": [
    "코드 1-1 [3] 활성화 함수 - 단위 계단 함수"
   ]
  },
  {
   "cell_type": "code",
   "execution_count": 1,
   "metadata": {},
   "outputs": [],
   "source": [
    "def step(x):\n",
    "    return int(x >= 0)"
   ]
  },
  {
   "cell_type": "markdown",
   "metadata": {},
   "source": [
    "코드 1-1 [4] 퍼셉트론 클래스 선언"
   ]
  },
  {
   "cell_type": "code",
   "execution_count": 3,
   "metadata": {},
   "outputs": [],
   "source": [
    "class Perceptron:\n",
    "    def __init__(self, dim, activation):\n",
    "        rnd = np.random.default_rng()\n",
    "        self.dim = dim\n",
    "        self.activation = activation\n",
    "        # 가중치(w)와 바이어스(b)를 He normal 방식으로 초기화\n",
    "        self.w = rnd.normal(scale=np.sart(2.0 / dim), size=dim)\n",
    "        self.b = rnd.normal(scale=np.sqrt(2.0 / dim))\n",
    "\n",
    "def printW(self):\n",
    "    for i in range(self.dim):\n",
    "        print('  w{} = {:6.3f}'.format(i+1, self.w[i]), end='')\n",
    "    print('  b = {:6.3f}'.format(self.b))\n",
    "\n",
    "def predict(self, x) : # numpy 배열 x에 저장된 표본의 출력 계산\n",
    "    return np.array([self.activation(np.dot(self.w, x[i]) + self.b) \n",
    "                                     for i in range(len(x))])\n",
    "\n",
    "def fit(self, X, y, N, epochs, eta=0.01):\n",
    "    # 학습표본의 인덱스를 무작위 순서로 섞음\n",
    "    idx = list(range (N))\n",
    "    np.random.shuffle(idx)\n",
    "    X = np.array([X[idx[i]] for i in range (N)])\n",
    "    y = np.array([y[idx[i]] for i in range (N)])\n",
    "    f = 'Epochs = {:4d}    Loss = {:8.5f}'\n",
    "    print('w의 초깃값 ', end='')\n",
    "    self.printw()\n",
    "    for j in range(epochs):\n",
    "        for i in range(N):\n",
    "            # x[1]에 대한 출력 오차 계산\n",
    "            delta = self.predict([X[i]])[0] - y[i]\n",
    "            self.w -= eta * delta * X[i]\n",
    "            self.b -= eta * delta\n",
    "        # 학습 과정 출력\n",
    "        if j < 10 or (j+1) % 100 == 0:\n",
    "            loss = self.predict(X) - y\n",
    "            loss = (loss * loss).sum() / N\n",
    "            print(f.format(j+1, loss), end='')\n",
    "            self.printW()"
   ]
  },
  {
   "cell_type": "code",
   "execution_count": null,
   "metadata": {},
   "outputs": [],
   "source": []
  }
 ],
 "metadata": {
  "kernelspec": {
   "display_name": "Python 3",
   "language": "python",
   "name": "python3"
  },
  "language_info": {
   "codemirror_mode": {
    "name": "ipython",
    "version": 3
   },
   "file_extension": ".py",
   "mimetype": "text/x-python",
   "name": "python",
   "nbconvert_exporter": "python",
   "pygments_lexer": "ipython3",
   "version": "3.10.8"
  },
  "orig_nbformat": 4
 },
 "nbformat": 4,
 "nbformat_minor": 2
}
